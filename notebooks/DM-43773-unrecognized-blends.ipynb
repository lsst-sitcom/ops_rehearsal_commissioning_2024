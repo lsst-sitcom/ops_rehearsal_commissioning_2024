{
 "cells": [
  {
   "cell_type": "code",
   "execution_count": 1,
   "id": "6c303f85-0273-4862-ba97-b2bf7df86c92",
   "metadata": {
    "execution": {
     "iopub.execute_input": "2024-04-10T16:03:55.991834Z",
     "iopub.status.busy": "2024-04-10T16:03:55.991293Z",
     "iopub.status.idle": "2024-04-10T16:03:56.353930Z",
     "shell.execute_reply": "2024-04-10T16:03:56.353389Z",
     "shell.execute_reply.started": "2024-04-10T16:03:55.991818Z"
    }
   },
   "outputs": [
    {
     "name": "stdout",
     "output_type": "stream",
     "text": [
      "lsst_distrib          g4213664e8e+662b828236 \tcurrent w_2024_14 setup\n"
     ]
    }
   ],
   "source": [
    "!eups list -s | grep lsst_distrib"
   ]
  },
  {
   "cell_type": "code",
   "execution_count": null,
   "id": "4bd78765-2b9e-4c2b-a036-5a40fd6fe30a",
   "metadata": {},
   "outputs": [],
   "source": []
  }
 ],
 "metadata": {
  "kernelspec": {
   "display_name": "LSST",
   "language": "python",
   "name": "lsst"
  },
  "language_info": {
   "codemirror_mode": {
    "name": "ipython",
    "version": 3
   },
   "file_extension": ".py",
   "mimetype": "text/x-python",
   "name": "python",
   "nbconvert_exporter": "python",
   "pygments_lexer": "ipython3",
   "version": "3.11.7"
  }
 },
 "nbformat": 4,
 "nbformat_minor": 5
}
