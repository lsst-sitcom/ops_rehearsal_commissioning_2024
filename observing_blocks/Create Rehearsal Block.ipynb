{
 "cells": [
  {
   "cell_type": "markdown",
   "metadata": {},
   "source": [
    "## Create Operations Rehearsal Blocks from and Opsim data base\n",
    "\n",
    "Take a OpsSim database created by the simulated scheduler for the 3rd operations rehearsal and produce blocks for the for the scheduler CSC.\n",
    "\n",
    "CWW - March 2024"
   ]
  },
  {
   "cell_type": "code",
   "execution_count": 9,
   "metadata": {
    "collapsed": false,
    "execution": {
     "iopub.execute_input": "2024-03-11T15:18:04.660377Z",
     "iopub.status.busy": "2024-03-11T15:18:04.660092Z",
     "iopub.status.idle": "2024-03-11T15:18:04.968195Z",
     "shell.execute_reply": "2024-03-11T15:18:04.967823Z",
     "shell.execute_reply.started": "2024-03-11T15:18:04.660361Z"
    },
    "jupyter": {
     "outputs_hidden": false
    },
    "scrolled": true
   },
   "outputs": [],
   "source": [
    "%config InlineBackend.figure_format = 'retina'\n",
    "\n",
    "from lsst.ts.observing import ObservingBlock, ObservingScript\n",
    "\n",
    "from sqlalchemy import create_engine\n",
    "\n",
    "import pandas as pd\n",
    "\n",
    "import matplotlib\n",
    "import matplotlib.pyplot as pyplot"
   ]
  },
  {
   "cell_type": "markdown",
   "metadata": {},
   "source": [
    "Let's get the data base into a Pandas DataFrame.  We will use sqlalchemy to make a database connection and then pandas to read the database tables into DataFrames.  This could have SQL selections in it but I am just reading the whole table in."
   ]
  },
  {
   "cell_type": "code",
   "execution_count": null,
   "metadata": {
    "collapsed": false,
    "execution": {
     "iopub.execute_input": "2024-03-11T15:18:49.410920Z",
     "iopub.status.busy": "2024-03-11T15:18:49.410383Z",
     "iopub.status.idle": "2024-03-11T15:18:50.087525Z",
     "shell.execute_reply": "2024-03-11T15:18:50.086969Z",
     "shell.execute_reply.started": "2024-03-11T15:18:49.410902Z"
    },
    "jupyter": {
     "outputs_hidden": false
    }
   },
   "outputs": [],
   "source": [
    "engine = create_engine('sqlite:////sdf/data/rubin/shared/ops-rehearsal-3/scheduler_sims/ops_rehearsal_apr_2024_v3_playbackBlock.db')\n",
    "Observations = pd.read_sql_table('observations', engine)\n",
    "Observations.head()"
   ]
  },
  {
   "cell_type": "code",
   "execution_count": null,
   "metadata": {
    "execution": {
     "iopub.execute_input": "2024-03-11T15:20:53.929780Z",
     "iopub.status.busy": "2024-03-11T15:20:53.929465Z",
     "iopub.status.idle": "2024-03-11T15:20:53.935348Z",
     "shell.execute_reply": "2024-03-11T15:20:53.934953Z",
     "shell.execute_reply.started": "2024-03-11T15:20:53.929763Z"
    }
   },
   "outputs": [],
   "source": [
    "# Summarize and then select columns we want to use\n",
    "\n",
    "print(Observations.columns)\n",
    "\n",
    "# Make a df with selected values.\n",
    "\n",
    "visit_info = Observations[['observationId', 'fieldRA', 'fieldDec', \n",
    "    'observationStartMJD',\n",
    "    'filter', 'rotSkyPos', 'rotTelPos', \n",
    "    'visitTime', 'visitExposureTime',\n",
    "    'altitude', 'azimuth', 'slewTime',\n",
    "    'note', 'target', 'fieldId',\n",
    "    'block_id', 'playbackBlock']]"
   ]
  },
  {
   "cell_type": "code",
   "execution_count": null,
   "metadata": {
    "execution": {
     "iopub.execute_input": "2024-03-11T15:22:43.619779Z",
     "iopub.status.busy": "2024-03-11T15:22:43.619150Z",
     "iopub.status.idle": "2024-03-11T15:22:43.623159Z",
     "shell.execute_reply": "2024-03-11T15:22:43.622809Z",
     "shell.execute_reply.started": "2024-03-11T15:22:43.619764Z"
    }
   },
   "outputs": [],
   "source": [
    "#Print out the BLOCK-IDs.\n",
    "pd.unique(visit_info.playbackBlock)"
   ]
  },
  {
   "cell_type": "code",
   "execution_count": null,
   "metadata": {
    "execution": {
     "iopub.execute_input": "2024-03-11T15:27:35.928242Z",
     "iopub.status.busy": "2024-03-11T15:27:35.927973Z",
     "iopub.status.idle": "2024-03-11T15:27:35.932340Z",
     "shell.execute_reply": "2024-03-11T15:27:35.932035Z",
     "shell.execute_reply.started": "2024-03-11T15:27:35.928228Z"
    }
   },
   "outputs": [],
   "source": [
    "#Group the data frame by block and print how many are in each block.\n",
    "BLOCKS = visit_info.groupby(['playbackBlock'])\n",
    "BLOCKS.observationId.count()"
   ]
  },
  {
   "cell_type": "markdown",
   "metadata": {},
   "source": [
    "### Extract the data frames we will use for the blocks."
   ]
  },
  {
   "cell_type": "code",
   "execution_count": null,
   "metadata": {
    "execution": {
     "iopub.execute_input": "2024-03-11T15:35:18.055845Z",
     "iopub.status.busy": "2024-03-11T15:35:18.055557Z",
     "iopub.status.idle": "2024-03-11T15:35:18.058388Z",
     "shell.execute_reply": "2024-03-11T15:35:18.058094Z",
     "shell.execute_reply.started": "2024-03-11T15:35:18.055831Z"
    }
   },
   "outputs": [],
   "source": [
    "#Get BLOCK = 0\n",
    "block = BLOCKS.get_group( (0,) )"
   ]
  },
  {
   "cell_type": "code",
   "execution_count": null,
   "metadata": {},
   "outputs": [],
   "source": [
    "# Create two extracted data frames with the correct field names.  We will \n",
    "# iterate over them later.  Also add some constant values to the data frame.\n",
    "# one is for the sleep command (for the slew), one for the take_image command.\n",
    "\n",
    "slew_block = block[['slewTime']]\n",
    "slew_block.columns = ['sleep_for']\n",
    "\n",
    "obs_block = block[['fieldRA', 'fieldDec', 'visitExposureTime', 'target', 'filter']]\n",
    "obs_block.columns = ['ra', 'dec', 'exp_times', 'note', 'filter']\n",
    "\n",
    "obs_block.insert(len(obs_block.columns), 'image_type', 'OBJECT')\n",
    "obs_block.insert(len(obs_block.columns), 'nimages', 1)\n",
    "\n",
    "# Print out the first five rows of the obs and sleep data frames\n",
    "display(obs_block.head())\n",
    "display(slew_block.head())"
   ]
  },
  {
   "cell_type": "markdown",
   "metadata": {},
   "source": [
    "### Produce the scripts and blocks"
   ]
  },
  {
   "cell_type": "code",
   "execution_count": null,
   "metadata": {},
   "outputs": [],
   "source": [
    "# Make a function to print the json structure in a multi-line human readable \n",
    "# form for the blocks GitHub Repository.\n",
    "\n",
    "def pretty_print_model(model):\n",
    "    print(model.model_dump_json(indent=4))"
   ]
  },
  {
   "cell_type": "code",
   "execution_count": null,
   "metadata": {},
   "outputs": [],
   "source": [
    "# Set how many rows of the BLOCK to process\n",
    "# rows = obs_block.shape[0]\n",
    "rows = 3\n",
    "\n",
    "# All the scripts in the block will be appended to this list.\n",
    "script_list = []\n",
    "\n",
    "# First write the script that puts us into playlist mode.\n",
    "playlist_script = ObservingScript(name=\"run_command.py\",  standard=True,\n",
    "            parameters={\"component\": \"CCCamera\", \"cmd\": \"play\", \n",
    "                        \"parameters\": {\"playlist\": 'ops3_60', \"repeat\": False}})\n",
    "\n",
    "script_list.append(playlist_script)\n",
    "\n",
    "for row in range(rows):\n",
    "\n",
    "    # Convert this row of the data frames parameters to dictionaries.\n",
    "    slew_dict = slew_block.iloc[[row],:].to_dict('records')[0]\n",
    "    obs_dict = obs_block.iloc[[row],:].to_dict('records')[0]\n",
    "\n",
    "    # Place the the sleep parameters into a script\n",
    "    sleep_script = ObservingScript(name=\"sleep.py\",  standard=True,\n",
    "            parameters= slew_dict)\n",
    "    \n",
    "    # Place the the ComCam image parameters into a script\n",
    "    take_image_script = ObservingScript(name=\"take_image_comcam.py\", standard=True, \n",
    "                                        parameters = obs_dict)\n",
    "\n",
    "    # Append them to the running script list    \n",
    "    script_list.append(sleep_script)\n",
    "    script_list.append(take_image_script)\n",
    "\n",
    "# Build the block dictionary\n",
    "observing_block = ObservingBlock(name=\"BLOCK-XXX\", program=\"BLOCK-XXX\", scripts=script_list) \n",
    "\n",
    "pretty_print_model(observing_block)"
   ]
  }
 ],
 "metadata": {
  "anaconda-cloud": {},
  "kernelspec": {
   "display_name": "Python 3",
   "language": "python",
   "name": "python3"
  },
  "language_info": {
   "codemirror_mode": {
    "name": "ipython",
    "version": 3
   },
   "file_extension": ".py",
   "mimetype": "text/x-python",
   "name": "python",
   "nbconvert_exporter": "python",
   "pygments_lexer": "ipython3",
   "version": "3.11.7"
  }
 },
 "nbformat": 4,
 "nbformat_minor": 4
}
